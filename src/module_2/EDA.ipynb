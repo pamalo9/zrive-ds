{
 "cells": [
  {
   "cell_type": "code",
   "execution_count": 1,
   "metadata": {},
   "outputs": [
    {
     "name": "stdout",
     "output_type": "stream",
     "text": [
      "The following packages are already present in the pyproject.toml and will be skipped:\n",
      "\n",
      "  • \u001b[36mpyarrow\u001b[39m\n",
      "\n",
      "If you want to update it to the latest compatible version, you can use `poetry update package`.\n",
      "If you prefer to upgrade it to the latest available version, you can use `poetry add package@latest`.\n",
      "\n",
      "Nothing to add.\n",
      "The following packages are already present in the pyproject.toml and will be skipped:\n",
      "\n",
      "  • \u001b[36mseaborn\u001b[39m\n",
      "\n",
      "If you want to update it to the latest compatible version, you can use `poetry update package`.\n",
      "If you prefer to upgrade it to the latest available version, you can use `poetry add package@latest`.\n",
      "\n",
      "Nothing to add.\n"
     ]
    }
   ],
   "source": [
    "!poetry add pyarrow\n",
    "!poetry add seaborn"
   ]
  },
  {
   "cell_type": "code",
   "execution_count": 3,
   "metadata": {},
   "outputs": [],
   "source": [
    "import pandas as pd"
   ]
  },
  {
   "cell_type": "code",
   "execution_count": 5,
   "metadata": {},
   "outputs": [
    {
     "name": "stdout",
     "output_type": "stream",
     "text": [
      "<class 'pandas.core.frame.DataFrame'>\n",
      "Index: 4983 entries, 2160 to 3360\n",
      "Data columns (total 10 columns):\n",
      " #   Column                 Non-Null Count  Dtype  \n",
      "---  ------                 --------------  -----  \n",
      " 0   user_id                4983 non-null   object \n",
      " 1   user_segment           4983 non-null   object \n",
      " 2   user_nuts1             4932 non-null   object \n",
      " 3   first_ordered_at       4983 non-null   object \n",
      " 4   customer_cohort_month  4983 non-null   object \n",
      " 5   count_people           325 non-null    float64\n",
      " 6   count_adults           325 non-null    float64\n",
      " 7   count_children         325 non-null    float64\n",
      " 8   count_babies           325 non-null    float64\n",
      " 9   count_pets             325 non-null    float64\n",
      "dtypes: float64(5), object(5)\n",
      "memory usage: 428.2+ KB\n",
      "None\n"
     ]
    }
   ],
   "source": [
    "users = pd.read_parquet(\"/home/pamalo/zrive-ds/data/module_2/users.parquet\")\n",
    "print(users.info())\n",
    "\n",
    "inventory = pd.read_parquet(\"/home/pamalo/zrive-ds/data/module_2/inventory.parquet\")\n",
    "abandcart = pd.read_parquet(\"/home/pamalo/zrive-ds/data/module_2/abandoned_carts.parquet\")\n",
    "print(users.info())"
   ]
  },
  {
   "cell_type": "code",
   "execution_count": 6,
   "metadata": {},
   "outputs": [
    {
     "name": "stdout",
     "output_type": "stream",
     "text": [
      "<class 'pandas.core.frame.DataFrame'>\n",
      "Index: 8773 entries, 10 to 64538\n",
      "Data columns (total 6 columns):\n",
      " #   Column          Non-Null Count  Dtype         \n",
      "---  ------          --------------  -----         \n",
      " 0   id              8773 non-null   int64         \n",
      " 1   user_id         8773 non-null   object        \n",
      " 2   created_at      8773 non-null   datetime64[us]\n",
      " 3   order_date      8773 non-null   datetime64[us]\n",
      " 4   user_order_seq  8773 non-null   int64         \n",
      " 5   ordered_items   8773 non-null   object        \n",
      "dtypes: datetime64[us](2), int64(2), object(2)\n",
      "memory usage: 479.8+ KB\n",
      "None\n"
     ]
    }
   ],
   "source": [
    "orders = pd.read_parquet(\"/home/pamalo/zrive-ds/data/module_2/orders.parquet\")\n",
    "print(orders.info())"
   ]
  },
  {
   "cell_type": "code",
   "execution_count": 7,
   "metadata": {},
   "outputs": [
    {
     "name": "stdout",
     "output_type": "stream",
     "text": [
      "<class 'pandas.core.frame.DataFrame'>\n",
      "Index: 18105 entries, 3 to 37720\n",
      "Data columns (total 3 columns):\n",
      " #   Column      Non-Null Count  Dtype         \n",
      "---  ------      --------------  -----         \n",
      " 0   user_id     18105 non-null  object        \n",
      " 1   variant_id  18105 non-null  int64         \n",
      " 2   created_at  18105 non-null  datetime64[us]\n",
      "dtypes: datetime64[us](1), int64(1), object(1)\n",
      "memory usage: 565.8+ KB\n",
      "None\n"
     ]
    }
   ],
   "source": [
    "regulars = pd.read_parquet(\"/home/pamalo/zrive-ds/data/module_2/regulars.parquet\")\n",
    "print(regulars.info())"
   ]
  },
  {
   "cell_type": "code",
   "execution_count": 8,
   "metadata": {},
   "outputs": [
    {
     "name": "stdout",
     "output_type": "stream",
     "text": [
      "<class 'pandas.core.frame.DataFrame'>\n",
      "RangeIndex: 1733 entries, 0 to 1732\n",
      "Data columns (total 6 columns):\n",
      " #   Column            Non-Null Count  Dtype  \n",
      "---  ------            --------------  -----  \n",
      " 0   variant_id        1733 non-null   int64  \n",
      " 1   price             1733 non-null   float64\n",
      " 2   compare_at_price  1733 non-null   float64\n",
      " 3   vendor            1733 non-null   object \n",
      " 4   product_type      1733 non-null   object \n",
      " 5   tags              1733 non-null   object \n",
      "dtypes: float64(2), int64(1), object(3)\n",
      "memory usage: 81.4+ KB\n",
      "None\n"
     ]
    }
   ],
   "source": [
    "inventory = pd.read_parquet(\"/home/pamalo/zrive-ds/data/module_2/inventory.parquet\")\n",
    "print(inventory.info())"
   ]
  },
  {
   "cell_type": "code",
   "execution_count": 11,
   "metadata": {},
   "outputs": [
    {
     "name": "stdout",
     "output_type": "stream",
     "text": [
      "<class 'pandas.core.frame.DataFrame'>\n",
      "Index: 5457 entries, 0 to 70050\n",
      "Data columns (total 4 columns):\n",
      " #   Column      Non-Null Count  Dtype         \n",
      "---  ------      --------------  -----         \n",
      " 0   id          5457 non-null   int64         \n",
      " 1   user_id     5457 non-null   object        \n",
      " 2   created_at  5457 non-null   datetime64[us]\n",
      " 3   variant_id  5457 non-null   object        \n",
      "dtypes: datetime64[us](1), int64(1), object(2)\n",
      "memory usage: 213.2+ KB\n",
      "None\n"
     ]
    }
   ],
   "source": [
    "abandcarts = pd.read_parquet(\"/home/pamalo/zrive-ds/data/module_2/abandoned_carts.parquet\")\n",
    "print(abandcarts.info())"
   ]
  },
  {
   "cell_type": "markdown",
   "metadata": {},
   "source": [
    "## Primeras impresiones\n",
    "- Dentro de usuarios tenemos variables con missing values(count_people, count_adults, count_children, count_babies, count_pets). Podrían ser valores opcionales a rellanar que el usuario omite completar.\n",
    "- ¿Que tipo de usuarios tenemos?\n"
   ]
  },
  {
   "cell_type": "code",
   "execution_count": 13,
   "metadata": {},
   "outputs": [
    {
     "data": {
      "text/html": [
       "<div>\n",
       "<style scoped>\n",
       "    .dataframe tbody tr th:only-of-type {\n",
       "        vertical-align: middle;\n",
       "    }\n",
       "\n",
       "    .dataframe tbody tr th {\n",
       "        vertical-align: top;\n",
       "    }\n",
       "\n",
       "    .dataframe thead th {\n",
       "        text-align: right;\n",
       "    }\n",
       "</style>\n",
       "<table border=\"1\" class=\"dataframe\">\n",
       "  <thead>\n",
       "    <tr style=\"text-align: right;\">\n",
       "      <th></th>\n",
       "      <th>user_id</th>\n",
       "      <th>user_segment</th>\n",
       "      <th>user_nuts1</th>\n",
       "      <th>first_ordered_at</th>\n",
       "      <th>customer_cohort_month</th>\n",
       "      <th>count_people</th>\n",
       "      <th>count_adults</th>\n",
       "      <th>count_children</th>\n",
       "      <th>count_babies</th>\n",
       "      <th>count_pets</th>\n",
       "    </tr>\n",
       "  </thead>\n",
       "  <tbody>\n",
       "    <tr>\n",
       "      <th>2160</th>\n",
       "      <td>0e823a42e107461379e5b5613b7aa00537a72e1b0eaa7a...</td>\n",
       "      <td>Top Up</td>\n",
       "      <td>UKH</td>\n",
       "      <td>2021-05-08 13:33:49</td>\n",
       "      <td>2021-05-01 00:00:00</td>\n",
       "      <td>NaN</td>\n",
       "      <td>NaN</td>\n",
       "      <td>NaN</td>\n",
       "      <td>NaN</td>\n",
       "      <td>NaN</td>\n",
       "    </tr>\n",
       "    <tr>\n",
       "      <th>1123</th>\n",
       "      <td>15768ced9bed648f745a7aa566a8895f7a73b9a47c1d4f...</td>\n",
       "      <td>Top Up</td>\n",
       "      <td>UKJ</td>\n",
       "      <td>2021-11-17 16:30:20</td>\n",
       "      <td>2021-11-01 00:00:00</td>\n",
       "      <td>NaN</td>\n",
       "      <td>NaN</td>\n",
       "      <td>NaN</td>\n",
       "      <td>NaN</td>\n",
       "      <td>NaN</td>\n",
       "    </tr>\n",
       "    <tr>\n",
       "      <th>1958</th>\n",
       "      <td>33e0cb6eacea0775e34adbaa2c1dec16b9d6484e6b9324...</td>\n",
       "      <td>Top Up</td>\n",
       "      <td>UKD</td>\n",
       "      <td>2022-03-09 23:12:25</td>\n",
       "      <td>2022-03-01 00:00:00</td>\n",
       "      <td>NaN</td>\n",
       "      <td>NaN</td>\n",
       "      <td>NaN</td>\n",
       "      <td>NaN</td>\n",
       "      <td>NaN</td>\n",
       "    </tr>\n",
       "    <tr>\n",
       "      <th>675</th>\n",
       "      <td>57ca7591dc79825df0cecc4836a58e6062454555c86c35...</td>\n",
       "      <td>Top Up</td>\n",
       "      <td>UKI</td>\n",
       "      <td>2021-04-23 16:29:02</td>\n",
       "      <td>2021-04-01 00:00:00</td>\n",
       "      <td>NaN</td>\n",
       "      <td>NaN</td>\n",
       "      <td>NaN</td>\n",
       "      <td>NaN</td>\n",
       "      <td>NaN</td>\n",
       "    </tr>\n",
       "    <tr>\n",
       "      <th>4694</th>\n",
       "      <td>085d8e598139ce6fc9f75d9de97960fa9e1457b409ec00...</td>\n",
       "      <td>Top Up</td>\n",
       "      <td>UKJ</td>\n",
       "      <td>2021-11-02 13:50:06</td>\n",
       "      <td>2021-11-01 00:00:00</td>\n",
       "      <td>NaN</td>\n",
       "      <td>NaN</td>\n",
       "      <td>NaN</td>\n",
       "      <td>NaN</td>\n",
       "      <td>NaN</td>\n",
       "    </tr>\n",
       "  </tbody>\n",
       "</table>\n",
       "</div>"
      ],
      "text/plain": [
       "                                                user_id user_segment  \\\n",
       "2160  0e823a42e107461379e5b5613b7aa00537a72e1b0eaa7a...       Top Up   \n",
       "1123  15768ced9bed648f745a7aa566a8895f7a73b9a47c1d4f...       Top Up   \n",
       "1958  33e0cb6eacea0775e34adbaa2c1dec16b9d6484e6b9324...       Top Up   \n",
       "675   57ca7591dc79825df0cecc4836a58e6062454555c86c35...       Top Up   \n",
       "4694  085d8e598139ce6fc9f75d9de97960fa9e1457b409ec00...       Top Up   \n",
       "\n",
       "     user_nuts1     first_ordered_at customer_cohort_month  count_people  \\\n",
       "2160        UKH  2021-05-08 13:33:49   2021-05-01 00:00:00           NaN   \n",
       "1123        UKJ  2021-11-17 16:30:20   2021-11-01 00:00:00           NaN   \n",
       "1958        UKD  2022-03-09 23:12:25   2022-03-01 00:00:00           NaN   \n",
       "675         UKI  2021-04-23 16:29:02   2021-04-01 00:00:00           NaN   \n",
       "4694        UKJ  2021-11-02 13:50:06   2021-11-01 00:00:00           NaN   \n",
       "\n",
       "      count_adults  count_children  count_babies  count_pets  \n",
       "2160           NaN             NaN           NaN         NaN  \n",
       "1123           NaN             NaN           NaN         NaN  \n",
       "1958           NaN             NaN           NaN         NaN  \n",
       "675            NaN             NaN           NaN         NaN  \n",
       "4694           NaN             NaN           NaN         NaN  "
      ]
     },
     "execution_count": 13,
     "metadata": {},
     "output_type": "execute_result"
    }
   ],
   "source": [
    "users.head()"
   ]
  },
  {
   "cell_type": "code",
   "execution_count": 14,
   "metadata": {},
   "outputs": [
    {
     "data": {
      "text/html": [
       "<div>\n",
       "<style scoped>\n",
       "    .dataframe tbody tr th:only-of-type {\n",
       "        vertical-align: middle;\n",
       "    }\n",
       "\n",
       "    .dataframe tbody tr th {\n",
       "        vertical-align: top;\n",
       "    }\n",
       "\n",
       "    .dataframe thead th {\n",
       "        text-align: right;\n",
       "    }\n",
       "</style>\n",
       "<table border=\"1\" class=\"dataframe\">\n",
       "  <thead>\n",
       "    <tr style=\"text-align: right;\">\n",
       "      <th></th>\n",
       "      <th>count_people</th>\n",
       "      <th>count_adults</th>\n",
       "      <th>count_children</th>\n",
       "      <th>count_babies</th>\n",
       "      <th>count_pets</th>\n",
       "    </tr>\n",
       "  </thead>\n",
       "  <tbody>\n",
       "    <tr>\n",
       "      <th>count</th>\n",
       "      <td>325.000000</td>\n",
       "      <td>325.000000</td>\n",
       "      <td>325.000000</td>\n",
       "      <td>325.000000</td>\n",
       "      <td>325.000000</td>\n",
       "    </tr>\n",
       "    <tr>\n",
       "      <th>mean</th>\n",
       "      <td>2.787692</td>\n",
       "      <td>2.003077</td>\n",
       "      <td>0.707692</td>\n",
       "      <td>0.076923</td>\n",
       "      <td>0.636923</td>\n",
       "    </tr>\n",
       "    <tr>\n",
       "      <th>std</th>\n",
       "      <td>1.365753</td>\n",
       "      <td>0.869577</td>\n",
       "      <td>1.026246</td>\n",
       "      <td>0.289086</td>\n",
       "      <td>0.995603</td>\n",
       "    </tr>\n",
       "    <tr>\n",
       "      <th>min</th>\n",
       "      <td>0.000000</td>\n",
       "      <td>0.000000</td>\n",
       "      <td>0.000000</td>\n",
       "      <td>0.000000</td>\n",
       "      <td>0.000000</td>\n",
       "    </tr>\n",
       "    <tr>\n",
       "      <th>25%</th>\n",
       "      <td>2.000000</td>\n",
       "      <td>2.000000</td>\n",
       "      <td>0.000000</td>\n",
       "      <td>0.000000</td>\n",
       "      <td>0.000000</td>\n",
       "    </tr>\n",
       "    <tr>\n",
       "      <th>50%</th>\n",
       "      <td>3.000000</td>\n",
       "      <td>2.000000</td>\n",
       "      <td>0.000000</td>\n",
       "      <td>0.000000</td>\n",
       "      <td>0.000000</td>\n",
       "    </tr>\n",
       "    <tr>\n",
       "      <th>75%</th>\n",
       "      <td>4.000000</td>\n",
       "      <td>2.000000</td>\n",
       "      <td>1.000000</td>\n",
       "      <td>0.000000</td>\n",
       "      <td>1.000000</td>\n",
       "    </tr>\n",
       "    <tr>\n",
       "      <th>max</th>\n",
       "      <td>8.000000</td>\n",
       "      <td>7.000000</td>\n",
       "      <td>6.000000</td>\n",
       "      <td>2.000000</td>\n",
       "      <td>6.000000</td>\n",
       "    </tr>\n",
       "  </tbody>\n",
       "</table>\n",
       "</div>"
      ],
      "text/plain": [
       "       count_people  count_adults  count_children  count_babies  count_pets\n",
       "count    325.000000    325.000000      325.000000    325.000000  325.000000\n",
       "mean       2.787692      2.003077        0.707692      0.076923    0.636923\n",
       "std        1.365753      0.869577        1.026246      0.289086    0.995603\n",
       "min        0.000000      0.000000        0.000000      0.000000    0.000000\n",
       "25%        2.000000      2.000000        0.000000      0.000000    0.000000\n",
       "50%        3.000000      2.000000        0.000000      0.000000    0.000000\n",
       "75%        4.000000      2.000000        1.000000      0.000000    1.000000\n",
       "max        8.000000      7.000000        6.000000      2.000000    6.000000"
      ]
     },
     "execution_count": 14,
     "metadata": {},
     "output_type": "execute_result"
    }
   ],
   "source": [
    "users.describe()"
   ]
  },
  {
   "cell_type": "markdown",
   "metadata": {},
   "source": [
    "- El 75% de los usuarios no tiene bebes y tiene 1 mascota"
   ]
  }
 ],
 "metadata": {
  "kernelspec": {
   "display_name": "zrive-ds-x2eYviSC-py3.11",
   "language": "python",
   "name": "python3"
  },
  "language_info": {
   "codemirror_mode": {
    "name": "ipython",
    "version": 3
   },
   "file_extension": ".py",
   "mimetype": "text/x-python",
   "name": "python",
   "nbconvert_exporter": "python",
   "pygments_lexer": "ipython3",
   "version": "3.11.5"
  },
  "orig_nbformat": 4
 },
 "nbformat": 4,
 "nbformat_minor": 2
}
